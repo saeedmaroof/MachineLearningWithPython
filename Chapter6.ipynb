{
 "cells": [
  {
   "cell_type": "code",
   "execution_count": 42,
   "metadata": {},
   "outputs": [],
   "source": [
    "from random import randrange as random\n",
    "import numpy as np\n",
    "feature_names = ['outlook' , 'time' , 'wind' , 'temp','play'];\n",
    "outlook = ('sunny' ,'snowy', 'rainy' , 'cloudy','foggy','storm');\n",
    "temp = ('freezing','cold', 'mild' ,'warm', 'hot');\n",
    "wind = ('weak','medium' , 'strong');\n",
    "time = ('morning','night');\n",
    "\n",
    "data = [];\n",
    "for i in range(1,100):\n",
    "    sample = [outlook[random(0,len(outlook))] , time[random(0,len(time))] ,wind[random(0,len(wind))] , temp[random(0,len(temp))] , random(0,2)];\n",
    "    data.append(sample)"
   ]
  },
  {
   "cell_type": "code",
   "execution_count": 66,
   "metadata": {},
   "outputs": [
    {
     "data": {
      "text/html": [
       "<div>\n",
       "<style scoped>\n",
       "    .dataframe tbody tr th:only-of-type {\n",
       "        vertical-align: middle;\n",
       "    }\n",
       "\n",
       "    .dataframe tbody tr th {\n",
       "        vertical-align: top;\n",
       "    }\n",
       "\n",
       "    .dataframe thead th {\n",
       "        text-align: right;\n",
       "    }\n",
       "</style>\n",
       "<table border=\"1\" class=\"dataframe\">\n",
       "  <thead>\n",
       "    <tr style=\"text-align: right;\">\n",
       "      <th></th>\n",
       "      <th>outlook</th>\n",
       "      <th>time</th>\n",
       "      <th>wind</th>\n",
       "      <th>temp</th>\n",
       "      <th>play</th>\n",
       "    </tr>\n",
       "  </thead>\n",
       "  <tbody>\n",
       "    <tr>\n",
       "      <th>4</th>\n",
       "      <td>cloudy</td>\n",
       "      <td>night</td>\n",
       "      <td>medium</td>\n",
       "      <td>warm</td>\n",
       "      <td>0</td>\n",
       "    </tr>\n",
       "    <tr>\n",
       "      <th>5</th>\n",
       "      <td>storm</td>\n",
       "      <td>morning</td>\n",
       "      <td>strong</td>\n",
       "      <td>mild</td>\n",
       "      <td>1</td>\n",
       "    </tr>\n",
       "    <tr>\n",
       "      <th>6</th>\n",
       "      <td>storm</td>\n",
       "      <td>morning</td>\n",
       "      <td>strong</td>\n",
       "      <td>hot</td>\n",
       "      <td>1</td>\n",
       "    </tr>\n",
       "    <tr>\n",
       "      <th>7</th>\n",
       "      <td>storm</td>\n",
       "      <td>morning</td>\n",
       "      <td>weak</td>\n",
       "      <td>cold</td>\n",
       "      <td>0</td>\n",
       "    </tr>\n",
       "    <tr>\n",
       "      <th>8</th>\n",
       "      <td>storm</td>\n",
       "      <td>morning</td>\n",
       "      <td>weak</td>\n",
       "      <td>freezing</td>\n",
       "      <td>1</td>\n",
       "    </tr>\n",
       "  </tbody>\n",
       "</table>\n",
       "</div>"
      ],
      "text/plain": [
       "  outlook     time    wind      temp  play\n",
       "4  cloudy    night  medium      warm     0\n",
       "5   storm  morning  strong      mild     1\n",
       "6   storm  morning  strong       hot     1\n",
       "7   storm  morning    weak      cold     0\n",
       "8   storm  morning    weak  freezing     1"
      ]
     },
     "execution_count": 66,
     "metadata": {},
     "output_type": "execute_result"
    }
   ],
   "source": [
    "import pandas as pd\n",
    "dataframe = pd.DataFrame(data , columns = feature_names)\n",
    "dataframe[4:9]"
   ]
  },
  {
   "cell_type": "code",
   "execution_count": 85,
   "metadata": {},
   "outputs": [],
   "source": [
    "feature_prob = {};\n",
    "p_no = len(dataframe[dataframe.play==0]);\n",
    "p_yes = len(dataframe[dataframe.play==1]);\n",
    "for i in feature_names[:len(feature_names)-1]:\n",
    "    df_feature = dataframe[[i, 'play']];\n",
    "    for j in eval(i):\n",
    "        df_j = (df_feature[df_feature[i]==j]);\n",
    "        j_yes =len(df_j[df_j.play==1]);\n",
    "        j_no = len(df_j[df_j.play==0]);\n",
    "        feature_prob[i , j] = {'yes':j_yes/p_yes , 'no':j_no/p_no , 'total':(j_yes+j_no)/100}\n"
   ]
  },
  {
   "cell_type": "code",
   "execution_count": 86,
   "metadata": {},
   "outputs": [
    {
     "data": {
      "text/html": [
       "<div>\n",
       "<style scoped>\n",
       "    .dataframe tbody tr th:only-of-type {\n",
       "        vertical-align: middle;\n",
       "    }\n",
       "\n",
       "    .dataframe tbody tr th {\n",
       "        vertical-align: top;\n",
       "    }\n",
       "\n",
       "    .dataframe thead th {\n",
       "        text-align: right;\n",
       "    }\n",
       "</style>\n",
       "<table border=\"1\" class=\"dataframe\">\n",
       "  <thead>\n",
       "    <tr style=\"text-align: right;\">\n",
       "      <th></th>\n",
       "      <th>yes</th>\n",
       "      <th>no</th>\n",
       "      <th>total</th>\n",
       "    </tr>\n",
       "  </thead>\n",
       "  <tbody>\n",
       "    <tr>\n",
       "      <th>sunny</th>\n",
       "      <td>0.192308</td>\n",
       "      <td>0.106383</td>\n",
       "      <td>0.15</td>\n",
       "    </tr>\n",
       "    <tr>\n",
       "      <th>snowy</th>\n",
       "      <td>0.134615</td>\n",
       "      <td>0.212766</td>\n",
       "      <td>0.17</td>\n",
       "    </tr>\n",
       "    <tr>\n",
       "      <th>rainy</th>\n",
       "      <td>0.269231</td>\n",
       "      <td>0.212766</td>\n",
       "      <td>0.24</td>\n",
       "    </tr>\n",
       "    <tr>\n",
       "      <th>cloudy</th>\n",
       "      <td>0.173077</td>\n",
       "      <td>0.191489</td>\n",
       "      <td>0.18</td>\n",
       "    </tr>\n",
       "    <tr>\n",
       "      <th>foggy</th>\n",
       "      <td>0.057692</td>\n",
       "      <td>0.148936</td>\n",
       "      <td>0.10</td>\n",
       "    </tr>\n",
       "    <tr>\n",
       "      <th>storm</th>\n",
       "      <td>0.173077</td>\n",
       "      <td>0.127660</td>\n",
       "      <td>0.15</td>\n",
       "    </tr>\n",
       "  </tbody>\n",
       "</table>\n",
       "</div>"
      ],
      "text/plain": [
       "             yes        no  total\n",
       "sunny   0.192308  0.106383   0.15\n",
       "snowy   0.134615  0.212766   0.17\n",
       "rainy   0.269231  0.212766   0.24\n",
       "cloudy  0.173077  0.191489   0.18\n",
       "foggy   0.057692  0.148936   0.10\n",
       "storm   0.173077  0.127660   0.15"
      ]
     },
     "execution_count": 86,
     "metadata": {},
     "output_type": "execute_result"
    }
   ],
   "source": [
    "feature_frame = pd.DataFrame(feature_prob)\n",
    "feature_frame.outlook.T\n"
   ]
  },
  {
   "cell_type": "code",
   "execution_count": 87,
   "metadata": {},
   "outputs": [
    {
     "data": {
      "text/html": [
       "<div>\n",
       "<style scoped>\n",
       "    .dataframe tbody tr th:only-of-type {\n",
       "        vertical-align: middle;\n",
       "    }\n",
       "\n",
       "    .dataframe tbody tr th {\n",
       "        vertical-align: top;\n",
       "    }\n",
       "\n",
       "    .dataframe thead th {\n",
       "        text-align: right;\n",
       "    }\n",
       "</style>\n",
       "<table border=\"1\" class=\"dataframe\">\n",
       "  <thead>\n",
       "    <tr style=\"text-align: right;\">\n",
       "      <th></th>\n",
       "      <th>yes</th>\n",
       "      <th>no</th>\n",
       "      <th>total</th>\n",
       "    </tr>\n",
       "  </thead>\n",
       "  <tbody>\n",
       "    <tr>\n",
       "      <th>morning</th>\n",
       "      <td>0.557692</td>\n",
       "      <td>0.468085</td>\n",
       "      <td>0.51</td>\n",
       "    </tr>\n",
       "    <tr>\n",
       "      <th>night</th>\n",
       "      <td>0.442308</td>\n",
       "      <td>0.531915</td>\n",
       "      <td>0.48</td>\n",
       "    </tr>\n",
       "  </tbody>\n",
       "</table>\n",
       "</div>"
      ],
      "text/plain": [
       "              yes        no  total\n",
       "morning  0.557692  0.468085   0.51\n",
       "night    0.442308  0.531915   0.48"
      ]
     },
     "execution_count": 87,
     "metadata": {},
     "output_type": "execute_result"
    }
   ],
   "source": [
    "feature_frame.time.T\n"
   ]
  },
  {
   "cell_type": "code",
   "execution_count": 88,
   "metadata": {},
   "outputs": [
    {
     "data": {
      "text/html": [
       "<div>\n",
       "<style scoped>\n",
       "    .dataframe tbody tr th:only-of-type {\n",
       "        vertical-align: middle;\n",
       "    }\n",
       "\n",
       "    .dataframe tbody tr th {\n",
       "        vertical-align: top;\n",
       "    }\n",
       "\n",
       "    .dataframe thead th {\n",
       "        text-align: right;\n",
       "    }\n",
       "</style>\n",
       "<table border=\"1\" class=\"dataframe\">\n",
       "  <thead>\n",
       "    <tr style=\"text-align: right;\">\n",
       "      <th></th>\n",
       "      <th>yes</th>\n",
       "      <th>no</th>\n",
       "      <th>total</th>\n",
       "    </tr>\n",
       "  </thead>\n",
       "  <tbody>\n",
       "    <tr>\n",
       "      <th>weak</th>\n",
       "      <td>0.288462</td>\n",
       "      <td>0.382979</td>\n",
       "      <td>0.33</td>\n",
       "    </tr>\n",
       "    <tr>\n",
       "      <th>medium</th>\n",
       "      <td>0.346154</td>\n",
       "      <td>0.361702</td>\n",
       "      <td>0.35</td>\n",
       "    </tr>\n",
       "    <tr>\n",
       "      <th>strong</th>\n",
       "      <td>0.365385</td>\n",
       "      <td>0.255319</td>\n",
       "      <td>0.31</td>\n",
       "    </tr>\n",
       "  </tbody>\n",
       "</table>\n",
       "</div>"
      ],
      "text/plain": [
       "             yes        no  total\n",
       "weak    0.288462  0.382979   0.33\n",
       "medium  0.346154  0.361702   0.35\n",
       "strong  0.365385  0.255319   0.31"
      ]
     },
     "execution_count": 88,
     "metadata": {},
     "output_type": "execute_result"
    }
   ],
   "source": [
    "feature_frame.wind.T"
   ]
  },
  {
   "cell_type": "code",
   "execution_count": 89,
   "metadata": {},
   "outputs": [
    {
     "data": {
      "text/html": [
       "<div>\n",
       "<style scoped>\n",
       "    .dataframe tbody tr th:only-of-type {\n",
       "        vertical-align: middle;\n",
       "    }\n",
       "\n",
       "    .dataframe tbody tr th {\n",
       "        vertical-align: top;\n",
       "    }\n",
       "\n",
       "    .dataframe thead th {\n",
       "        text-align: right;\n",
       "    }\n",
       "</style>\n",
       "<table border=\"1\" class=\"dataframe\">\n",
       "  <thead>\n",
       "    <tr style=\"text-align: right;\">\n",
       "      <th></th>\n",
       "      <th>yes</th>\n",
       "      <th>no</th>\n",
       "      <th>total</th>\n",
       "    </tr>\n",
       "  </thead>\n",
       "  <tbody>\n",
       "    <tr>\n",
       "      <th>freezing</th>\n",
       "      <td>0.250000</td>\n",
       "      <td>0.212766</td>\n",
       "      <td>0.23</td>\n",
       "    </tr>\n",
       "    <tr>\n",
       "      <th>cold</th>\n",
       "      <td>0.250000</td>\n",
       "      <td>0.276596</td>\n",
       "      <td>0.26</td>\n",
       "    </tr>\n",
       "    <tr>\n",
       "      <th>mild</th>\n",
       "      <td>0.173077</td>\n",
       "      <td>0.085106</td>\n",
       "      <td>0.13</td>\n",
       "    </tr>\n",
       "    <tr>\n",
       "      <th>warm</th>\n",
       "      <td>0.076923</td>\n",
       "      <td>0.234043</td>\n",
       "      <td>0.15</td>\n",
       "    </tr>\n",
       "    <tr>\n",
       "      <th>hot</th>\n",
       "      <td>0.250000</td>\n",
       "      <td>0.191489</td>\n",
       "      <td>0.22</td>\n",
       "    </tr>\n",
       "  </tbody>\n",
       "</table>\n",
       "</div>"
      ],
      "text/plain": [
       "               yes        no  total\n",
       "freezing  0.250000  0.212766   0.23\n",
       "cold      0.250000  0.276596   0.26\n",
       "mild      0.173077  0.085106   0.13\n",
       "warm      0.076923  0.234043   0.15\n",
       "hot       0.250000  0.191489   0.22"
      ]
     },
     "execution_count": 89,
     "metadata": {},
     "output_type": "execute_result"
    }
   ],
   "source": [
    "feature_frame.temp.T"
   ]
  },
  {
   "cell_type": "code",
   "execution_count": 92,
   "metadata": {},
   "outputs": [
    {
     "name": "stdout",
     "output_type": "stream",
     "text": [
      "not play 0.47\n",
      "play 0.52\n"
     ]
    }
   ],
   "source": [
    "print('not play' , p_no/100);\n",
    "print('play' , p_yes/100);\n"
   ]
  },
  {
   "cell_type": "markdown",
   "metadata": {},
   "source": [
    "assume that it is a couldy night with hot temp and strong wind.\n",
    "\n",
    "can we play or we should stay at home?"
   ]
  },
  {
   "cell_type": "markdown",
   "metadata": {},
   "source": [
    "* p(X|play==1) = p(cloudy|1)p(night|1)p(hot|1)p(strong|1) = 0.006992\n",
    "\n",
    "\n",
    "* p(X|play==0) = p(cloudy|0)p(night|0)p(hot|0)p(strong|0) = 0.004979"
   ]
  },
  {
   "cell_type": "markdown",
   "metadata": {},
   "source": [
    "# p (C|X) = p(X|C)*p(C)/p(X)"
   ]
  },
  {
   "cell_type": "markdown",
   "metadata": {},
   "source": [
    "p(play==1 | X) = 0.006992 * .52/ 0.005892 = 0.617\n",
    "\n",
    "\n",
    "p(play==0 | X) = 0.004979 *  .47/ 0.005892 = 0.3971"
   ]
  },
  {
   "cell_type": "markdown",
   "metadata": {},
   "source": [
    "so we the chance that we can play is more than stay at home. so lets play :)"
   ]
  },
  {
   "cell_type": "markdown",
   "metadata": {},
   "source": [
    "----------------------------"
   ]
  },
  {
   "cell_type": "code",
   "execution_count": 159,
   "metadata": {},
   "outputs": [],
   "source": [
    "import numpy as np\n",
    "data = np.array(data)\n",
    "y = [int(i) for i in data[:,4]]\n",
    "x = data[:,:4];\n",
    "from sklearn.naive_bayes import BernoulliNB\n",
    "model = BernoulliNB();\n",
    "...;"
   ]
  },
  {
   "cell_type": "code",
   "execution_count": null,
   "metadata": {},
   "outputs": [],
   "source": []
  }
 ],
 "metadata": {
  "kernelspec": {
   "display_name": "Python 3",
   "language": "python",
   "name": "python3"
  },
  "language_info": {
   "codemirror_mode": {
    "name": "ipython",
    "version": 3
   },
   "file_extension": ".py",
   "mimetype": "text/x-python",
   "name": "python",
   "nbconvert_exporter": "python",
   "pygments_lexer": "ipython3",
   "version": "3.7.2"
  }
 },
 "nbformat": 4,
 "nbformat_minor": 4
}
